{
 "cells": [
  {
   "cell_type": "code",
   "execution_count": null,
   "metadata": {},
   "outputs": [],
   "source": [
    "# 랭체인, 크로마db, 판다스 설치 진행\n",
    "pip install pandas"
   ]
  },
  {
   "cell_type": "code",
   "execution_count": null,
   "metadata": {},
   "outputs": [],
   "source": [
    "pip install sentence-transformers"
   ]
  },
  {
   "cell_type": "code",
   "execution_count": null,
   "metadata": {},
   "outputs": [],
   "source": [
    "pip install langchain"
   ]
  },
  {
   "cell_type": "code",
   "execution_count": null,
   "metadata": {},
   "outputs": [],
   "source": [
    "pip install -U langchain-community"
   ]
  },
  {
   "cell_type": "code",
   "execution_count": null,
   "metadata": {},
   "outputs": [],
   "source": [
    "pip install chromadb"
   ]
  },
  {
   "cell_type": "code",
   "execution_count": 5,
   "metadata": {},
   "outputs": [
    {
     "data": {
      "text/plain": [
       "'/home/students/cs/202020933/rag'"
      ]
     },
     "execution_count": 5,
     "metadata": {},
     "output_type": "execute_result"
    }
   ],
   "source": [
    "pwd"
   ]
  },
  {
   "cell_type": "code",
   "execution_count": null,
   "metadata": {},
   "outputs": [
    {
     "name": "stdout",
     "output_type": "stream",
     "text": [
      "  CKG_NM                                        CKG_MTRL_CN\n",
      "0  어묵김말이  [재료] 어묵 2개| 김밥용김 3장| 당면 1움큼| 양파 1/2개| 당근 1/2개|...\n",
      "1  두부새우전  [재료] 두부 1/2모| 당근 1/2개| 고추 2개| 브로콜리 1/4개| 새우 4마...\n",
      "2     알밥  [재료] 밥 1+1/2공기| 당근 1/4개| 치자단무지 1/2개| 신김치 1쪽| 무...\n",
      "3  현미호두죽           [재료] 현미 4컵| 찹쌀 2컵| 호두 50g| 물 1/2컵| 소금 약간\n",
      "4   북어갈비  [재료] 북어포 1마리| 찹쌀가루 1C [양념] 간장 2T| 설탕 1T| 물 1T|...\n"
     ]
    }
   ],
   "source": [
    "import pandas as pd\n",
    "\n",
    "# CSV 파일 로드\n",
    "data = pd.read_csv('./food_data.csv')\n",
    "print(data.head())"
   ]
  },
  {
   "cell_type": "code",
   "execution_count": 3,
   "metadata": {},
   "outputs": [
    {
     "name": "stdout",
     "output_type": "stream",
     "text": [
      "224\n",
      "224\n",
      "200\n",
      "200\n",
      "삼겹살파인애플말이\n",
      "[재료] 삼겹살 4줄| 통조림 파인애플 3쪽 [양념] 다시마물 1큰술| 간장 2큰술| 설탕 1큰술| 청주 1큰술| 생강즙 약간\n"
     ]
    }
   ],
   "source": [
    "# 데이터에서 음식 이름과 재료만 뽑아서 200개만 저장\n",
    "name = data[\"CKG_NM\"].tolist()\n",
    "ingredients = data[\"CKG_MTRL_CN\"].tolist()\n",
    "\n",
    "print(len(name))\n",
    "print(len(ingredients))\n",
    "\n",
    "name_list = name[0:200]\n",
    "ingredients_list = ingredients[0:200]\n",
    "\n",
    "print(len(name_list))\n",
    "print(len(ingredients_list))\n",
    "print(name_list[199])\n",
    "print(ingredients_list[199])"
   ]
  },
  {
   "cell_type": "code",
   "execution_count": null,
   "metadata": {},
   "outputs": [],
   "source": [
    "# HuggingFaceEmbeddings: Langchain에서 제공하는 클래스로, Hugging Face의 모델을 사용하여 텍스트를 벡터로 임베딩하는 역할\n",
    "# 이 클래스는 Hugging Face에서 제공하는 다양한 모델을 쉽게 사용할 수 있게 해줌\n",
    "from langchain.embeddings import HuggingFaceEmbeddings\n",
    "\n",
    "# Chroma: Langchain에서 제공하는 벡터 데이터베이스. 이 클래스는 텍스트 임베딩을 저장하고, 나중에 임베딩을 기반으로 검색을 수행할 수 있게 해줌\n",
    "from langchain.vectorstores import Chroma\n",
    "\n",
    "# 모델 지정 모델은 허깅페이스의 intfloat/multilingual-e5-large-instruct 활용\n",
    "embedding_model = HuggingFaceEmbeddings(model_name=\"intfloat/multilingual-e5-large-instruct\")\n",
    "\n",
    "# 크로마 db에 저장\n",
    "# from_texts: Chroma 클래스의 from_texts 메소드를 사용하여 임베딩된 텍스트들을 Chroma DB에 저장하는 과정입니다. 이 메소드는 3개의 주요 인자를 받음\n",
    "\n",
    "# ingredients_list: 텍스트 데이터 리스트입니다. ingredients_list는 임베딩을 적용할 원본 텍스트 데이터(예: 재료 목록 또는 텍스트의 다른 항목)를 포함하는 리스트, 이 텍스트들이 embedding_model을 통해 벡터로 변환\n",
    "# embedding_model: 앞서 설정한 임베딩 모델을 사용하여 ingredients_list에 있는 각 텍스트를 고차원 벡터로 변환\n",
    "# metadatas: 메타데이터를 지정하는 부분으로 각 텍스트에 대한 메타데이터를 제공할 수 있음. 여기서는 name_list에 있는 이름을 이용하여 각 텍스트에 대해 \"Description\": name 형태로 메타데이터를 생성하여, Chroma DB에 저장할 때 벡터와 함께 해당 텍스트에 대한 정보를 추가\n",
    "db = Chroma.from_texts(ingredients_list, embedding_model, metadatas=[{\"Description\": name} for name in name_list])"
   ]
  },
  {
   "cell_type": "markdown",
   "metadata": {},
   "source": [
    "하지만 이런 경우엔 임베딩 되는 내용에 음식 이름이 들어가지 않기 때문에 아래와 같이 질문을 진행하게 되면 음식 이름과 재료를 유사도 검사하여 문서를 가져오기 때문에 정확하지 않을 수 있음.\n",
    "따라서 정확성을 높이기 위해서는 반드시 유사도 검색을 진행하기 위해 벡터화 하는 내용을 다음과 같이 수정하면 좋음\n",
    "\n",
    "수정 내용 = \"음식 이름\"의 \"재료\"\n",
    "EX) 어묵김말이의 재료 어묵 2개| 김밥용김 3장| 당면 1움큼| 양파 1/2개| 당근 1/2개| 깻잎 6장| 튀김가루 1컵 | 올리브유 적당량| 간장 1T| 참기름 1T"
   ]
  },
  {
   "cell_type": "code",
   "execution_count": 6,
   "metadata": {},
   "outputs": [
    {
     "name": "stdout",
     "output_type": "stream",
     "text": [
      "Description: 어묵김말이\n",
      "ingredients: [재료] 어묵 2개| 김밥용김 3장| 당면 1움큼| 양파 1/2개| 당근 1/2개| 깻잎 6장| 튀김가루 1컵 | 올리브유 적당량| 간장 1T| 참기름 1T\n"
     ]
    }
   ],
   "source": [
    "#사용자의 질문\n",
    "query = \"어묵김말이의 재료는?\"\n",
    "\n",
    "#질문에 유사한 1개의 문서를 뽑아서 results에 저장\n",
    "results = db.similarity_search(query, k=1)\n",
    "\n",
    "#results의 데이터 출력 진행\n",
    "for result in results:\n",
    "    print(f\"Description: {result.metadata['Description']}\")\n",
    "    print(f\"ingredients: {result.page_content}\")"
   ]
  },
  {
   "cell_type": "code",
   "execution_count": 7,
   "metadata": {},
   "outputs": [
    {
     "name": "stdout",
     "output_type": "stream",
     "text": [
      "Description: 두부새우전\n",
      "ingredients: [재료] 두부 1/2모| 당근 1/2개| 고추 2개| 브로콜리 1/4개| 새우 4마리| 녹말가루| 계란 1개\n"
     ]
    }
   ],
   "source": [
    "#사용자의 질문\n",
    "query = \"두부새우전의 재료는?\"\n",
    "\n",
    "#질문에 유사한 1개의 문서를 뽑아서 results에 저장\n",
    "results = db.similarity_search(query, k=1)\n",
    "\n",
    "#results의 데이터 출력 진행\n",
    "for result in results:\n",
    "    print(f\"Description: {result.metadata['Description']}\")\n",
    "    print(f\"ingredients: {result.page_content}\")"
   ]
  },
  {
   "cell_type": "code",
   "execution_count": 8,
   "metadata": {},
   "outputs": [
    {
     "name": "stdout",
     "output_type": "stream",
     "text": [
      "Description: 현미호두죽\n",
      "ingredients: [재료] 현미 4컵| 찹쌀 2컵| 호두 50g| 물 1/2컵| 소금 약간\n"
     ]
    }
   ],
   "source": [
    "#사용자의 질문\n",
    "query = \"현미호두죽의 재료는?\"\n",
    "\n",
    "#질문에 유사한 1개의 문서를 뽑아서 results에 저장\n",
    "results = db.similarity_search(query, k=1)\n",
    "\n",
    "#results의 데이터 출력 진행\n",
    "for result in results:\n",
    "    print(f\"Description: {result.metadata['Description']}\")\n",
    "    print(f\"ingredients: {result.page_content}\")"
   ]
  },
  {
   "cell_type": "code",
   "execution_count": 37,
   "metadata": {},
   "outputs": [
    {
     "name": "stdout",
     "output_type": "stream",
     "text": [
      "Description: 삼겹살파인애플말이\n",
      "ingredients: [재료] 삼겹살 4줄| 통조림 파인애플 3쪽 [양념] 다시마물 1큰술| 간장 2큰술| 설탕 1큰술| 청주 1큰술| 생강즙 약간\n"
     ]
    }
   ],
   "source": [
    "#사용자의 질문\n",
    "query = \"삼겹살파인애플말이의 재료는?\"\n",
    "\n",
    "#질문에 유사한 1개의 문서를 뽑아서 results에 저장\n",
    "results = db.similarity_search(query, k=1)\n",
    "\n",
    "#results의 데이터 출력 진행\n",
    "for result in results:\n",
    "    print(f\"Description: {result.metadata['Description']}\")\n",
    "    print(f\"ingredients: {result.page_content}\")"
   ]
  },
  {
   "cell_type": "code",
   "execution_count": 10,
   "metadata": {},
   "outputs": [
    {
     "name": "stdout",
     "output_type": "stream",
     "text": [
      "Description: 양파링튀김\n",
      "ingredients: [재료] 양파1개| 빵가루| 달걀 노른자1개| 밀가루1C| 물 약간| 파슬리 \n"
     ]
    }
   ],
   "source": [
    "#사용자의 질문\n",
    "query = \"양파링튀김의 재료는?\"\n",
    "\n",
    "#질문에 유사한 1개의 문서를 뽑아서 results에 저장\n",
    "results = db.similarity_search(query, k=1)\n",
    "\n",
    "#results의 데이터 출력 진행\n",
    "for result in results:\n",
    "    print(f\"Description: {result.metadata['Description']}\")\n",
    "    print(f\"ingredients: {result.page_content}\")"
   ]
  },
  {
   "cell_type": "code",
   "execution_count": 11,
   "metadata": {},
   "outputs": [
    {
     "name": "stdout",
     "output_type": "stream",
     "text": [
      "Description: 베이컨김치말이밥\n",
      "ingredients: [재료] 밥 1공기| 김치 1/6포기| 베이컨 적당량 | 깻잎 5장| 양파 1/4개\n"
     ]
    }
   ],
   "source": [
    "#사용자의 질문\n",
    "query = \"베이컨김치말이밥의 재료는?\"\n",
    "\n",
    "#질문에 유사한 1개의 문서를 뽑아서 results에 저장\n",
    "results = db.similarity_search(query, k=1)\n",
    "\n",
    "#results의 데이터 출력 진행\n",
    "for result in results:\n",
    "    print(f\"Description: {result.metadata['Description']}\")\n",
    "    print(f\"ingredients: {result.page_content}\")"
   ]
  },
  {
   "cell_type": "code",
   "execution_count": 12,
   "metadata": {},
   "outputs": [
    {
     "name": "stdout",
     "output_type": "stream",
     "text": [
      "Description: 뚝배기라면\n",
      "ingredients: [재료] 좋아하는 종류의 라면 1봉지| 김치 1/4포기| 굴 5~6개| 파 1개| 청or홍고추 1개 [양념] 고춧가루 약간\n"
     ]
    }
   ],
   "source": [
    "#사용자의 질문\n",
    "query = \"뚝배기라면의 재료는?\"\n",
    "\n",
    "#질문에 유사한 1개의 문서를 뽑아서 results에 저장\n",
    "results = db.similarity_search(query, k=1)\n",
    "\n",
    "#results의 데이터 출력 진행\n",
    "for result in results:\n",
    "    print(f\"Description: {result.metadata['Description']}\")\n",
    "    print(f\"ingredients: {result.page_content}\")"
   ]
  },
  {
   "cell_type": "code",
   "execution_count": 13,
   "metadata": {},
   "outputs": [
    {
     "name": "stdout",
     "output_type": "stream",
     "text": [
      "Description: 꼬마김밥\n",
      "ingredients: [재료] 밥 2공기| 김밥용어묵| 오이 1/2개| 캔햄이나김밥용햄| 김밥용단무지| 김 [양념] 참기름 1T| 맛소금 1T\n"
     ]
    }
   ],
   "source": [
    "#사용자의 질문\n",
    "query = \"꼬마김밥의 재료는?\"\n",
    "\n",
    "#질문에 유사한 1개의 문서를 뽑아서 results에 저장\n",
    "results = db.similarity_search(query, k=1)\n",
    "\n",
    "#results의 데이터 출력 진행\n",
    "for result in results:\n",
    "    print(f\"Description: {result.metadata['Description']}\")\n",
    "    print(f\"ingredients: {result.page_content}\")"
   ]
  },
  {
   "cell_type": "code",
   "execution_count": 14,
   "metadata": {},
   "outputs": [
    {
     "name": "stdout",
     "output_type": "stream",
     "text": [
      "Description: 뮈슬리초코칩쿠키\n",
      "ingredients: [재료] 박력분 250그램| 버터 135그램| 베이킹 파우더 4그램| 베이킹 소다 2그램| 계란 1개| 설탕 125그램| 초코칩 200그램| 유기농 초코 뮈슬리 100~150그램\n"
     ]
    }
   ],
   "source": [
    "#사용자의 질문\n",
    "query = \"뮈슬리초코칩쿠키의 재료는?\"\n",
    "\n",
    "#질문에 유사한 1개의 문서를 뽑아서 results에 저장\n",
    "results = db.similarity_search(query, k=1)\n",
    "\n",
    "#results의 데이터 출력 진행\n",
    "for result in results:\n",
    "    print(f\"Description: {result.metadata['Description']}\")\n",
    "    print(f\"ingredients: {result.page_content}\")"
   ]
  },
  {
   "cell_type": "code",
   "execution_count": 15,
   "metadata": {},
   "outputs": [
    {
     "name": "stdout",
     "output_type": "stream",
     "text": [
      "Description: 대추케이크\n",
      "ingredients: [재료] 대추 170g| 두유 250g| 포도씨유 80g| 베이킹소다 1/2ts| 베이킹파우더 1ts| 우리밀통밀 150g| 호두 80g| 물 200g [양념] 계피가루 1/4ts| 설탕 120g| 소금 1/4ts\n",
      "Description: 찹쌀경단\n",
      "ingredients: [재료] 찹쌀가루 300g| 물 11스푼| 고운팥앙금 적당량| 노랑카스테라가루 약간| 연두색카스테라가루 약간| 흑임자가루 약간| 계피가루 약간| 생밤 1개| 대추 4개\n",
      "Description: 대추스콘\n",
      "ingredients: [재료] 강력분 150그램| 박력분 150그램| 설탕 20그램| 소금 2그램| 베이킹 파우더 5그램| 버터 45그램| 건포도 6그램| 달갈 1개| 우유 100ml| 대추야자 씨뺀것 70그램| 계란물 약간\n"
     ]
    }
   ],
   "source": [
    "#사용자의 질문\n",
    "query = \"대추스콘의 재료는?\"\n",
    "\n",
    "#질문에 유사한 1개의 문서를 뽑아서 results에 저장\n",
    "results = db.similarity_search(query, k=3)\n",
    "\n",
    "#results의 데이터 출력 진행\n",
    "for result in results:\n",
    "    print(f\"Description: {result.metadata['Description']}\")\n",
    "    print(f\"ingredients: {result.page_content}\")"
   ]
  },
  {
   "cell_type": "code",
   "execution_count": 16,
   "metadata": {},
   "outputs": [
    {
     "name": "stdout",
     "output_type": "stream",
     "text": [
      "Description: 사천짜장떡볶이\n",
      "ingredients: [재료] 떡볶이떡 400~500그램 정도| 양파 1/2개| 양배추 큰것 1/8통| 대파 2줄기| 어묵 2장| 쫄면 200그램 정도| 물 또는 육수 1+1/2컵 [양념] 다*다(소고기맛 조미료) 1/2큰술| 춘장 2큰술| 고추장 1큰술| 설탕 2큰술| 다진마늘 1큰술\n"
     ]
    }
   ],
   "source": [
    "#사용자의 질문\n",
    "query = \"사천짜장떡볶이의 재료는?\"\n",
    "\n",
    "#질문에 유사한 1개의 문서를 뽑아서 results에 저장\n",
    "results = db.similarity_search(query, k=1)\n",
    "\n",
    "#results의 데이터 출력 진행\n",
    "for result in results:\n",
    "    print(f\"Description: {result.metadata['Description']}\")\n",
    "    print(f\"ingredients: {result.page_content}\")"
   ]
  },
  {
   "cell_type": "code",
   "execution_count": 17,
   "metadata": {},
   "outputs": [
    {
     "name": "stdout",
     "output_type": "stream",
     "text": [
      "Description: 스팸오이식빵롤\n",
      "ingredients: [재료] 식빵 4장| 스팸 1/3캔| 오이 1개| 체다치즈(노란치즈) [양념] 머스터드| 피클| 마요네즈\n"
     ]
    }
   ],
   "source": [
    "#사용자의 질문\n",
    "query = \"스팸오이식빵롤의 재료는?\"\n",
    "\n",
    "#질문에 유사한 1개의 문서를 뽑아서 results에 저장\n",
    "results = db.similarity_search(query, k=1)\n",
    "\n",
    "#results의 데이터 출력 진행\n",
    "for result in results:\n",
    "    print(f\"Description: {result.metadata['Description']}\")\n",
    "    print(f\"ingredients: {result.page_content}\")"
   ]
  },
  {
   "cell_type": "code",
   "execution_count": 29,
   "metadata": {},
   "outputs": [
    {
     "name": "stdout",
     "output_type": "stream",
     "text": [
      "Description: 새우볶음밥고로케\n",
      "ingredients: [재료] 새우 10마리| 밥 2공기| 김치 1/4포기| 당근 1/2개| 감자 1/2개| 양파 1/2개| 빵가루| 달걀| 밀가루\n"
     ]
    }
   ],
   "source": [
    "#사용자의 질문\n",
    "query = \"새우볶음밥고로케의 재료는?\"\n",
    "\n",
    "#질문에 유사한 1개의 문서를 뽑아서 results에 저장\n",
    "results = db.similarity_search(query, k=1)\n",
    "\n",
    "#results의 데이터 출력 진행\n",
    "for result in results:\n",
    "    print(f\"Description: {result.metadata['Description']}\")\n",
    "    print(f\"ingredients: {result.page_content}\")"
   ]
  },
  {
   "cell_type": "code",
   "execution_count": 19,
   "metadata": {},
   "outputs": [
    {
     "name": "stdout",
     "output_type": "stream",
     "text": [
      "Description: 카레새우삼각김밥\n",
      "ingredients: [재료] 새우 7마리| 양파 1/4개| 김치 1/6포기| 밥지을쌀| 김밥용김| 계란| 밀가루| 빵가루 [양념] 백세 카레가루 2T\n"
     ]
    }
   ],
   "source": [
    "#사용자의 질문\n",
    "query = \"카레새우삼각김밥의 재료는?\"\n",
    "\n",
    "#질문에 유사한 1개의 문서를 뽑아서 results에 저장\n",
    "results = db.similarity_search(query, k=1)\n",
    "\n",
    "#results의 데이터 출력 진행\n",
    "for result in results:\n",
    "    print(f\"Description: {result.metadata['Description']}\")\n",
    "    print(f\"ingredients: {result.page_content}\")"
   ]
  },
  {
   "cell_type": "code",
   "execution_count": 20,
   "metadata": {},
   "outputs": [
    {
     "name": "stdout",
     "output_type": "stream",
     "text": [
      "Description: 호두가래떡구이\n",
      "ingredients: [재료] 가래떡 1개| 호두 15알 정도 [양념] 깨 3T| 꿀 5T\n"
     ]
    }
   ],
   "source": [
    "#사용자의 질문\n",
    "query = \"호두가래떡구이의 재료는?\"\n",
    "\n",
    "#질문에 유사한 1개의 문서를 뽑아서 results에 저장\n",
    "results = db.similarity_search(query, k=1)\n",
    "\n",
    "#results의 데이터 출력 진행\n",
    "for result in results:\n",
    "    print(f\"Description: {result.metadata['Description']}\")\n",
    "    print(f\"ingredients: {result.page_content}\")"
   ]
  },
  {
   "cell_type": "code",
   "execution_count": 21,
   "metadata": {},
   "outputs": [
    {
     "name": "stdout",
     "output_type": "stream",
     "text": [
      "Description: 오코노미야키\n",
      "ingredients: [재료] 양배추 1/2통| 숙주 1줌| 오징어 1마리| 새우 6마리| 베이컨 2줄| 계란 1개| 실파 약간 [오코노미야키반죽] 밀가루 1C| 물 1C| 혼다시 1T| 후추&소금 약간 [양념] 돈가스소스| 마요네즈\n"
     ]
    }
   ],
   "source": [
    "#사용자의 질문\n",
    "query = \"오코노미야키의 재료는?\"\n",
    "\n",
    "#질문에 유사한 1개의 문서를 뽑아서 results에 저장\n",
    "results = db.similarity_search(query, k=1)\n",
    "\n",
    "#results의 데이터 출력 진행\n",
    "for result in results:\n",
    "    print(f\"Description: {result.metadata['Description']}\")\n",
    "    print(f\"ingredients: {result.page_content}\")"
   ]
  },
  {
   "cell_type": "code",
   "execution_count": 22,
   "metadata": {},
   "outputs": [
    {
     "name": "stdout",
     "output_type": "stream",
     "text": [
      "Description: 묵은지꽁치조림\n",
      "ingredients: [재료] 꽁치| 묵은지| 무 [양념] 고춧가루| 후춧가루| 다진마늘\n"
     ]
    }
   ],
   "source": [
    "#사용자의 질문\n",
    "query = \"묵은지꽁치조림의 재료는?\"\n",
    "\n",
    "#질문에 유사한 1개의 문서를 뽑아서 results에 저장\n",
    "results = db.similarity_search(query, k=1)\n",
    "\n",
    "#results의 데이터 출력 진행\n",
    "for result in results:\n",
    "    print(f\"Description: {result.metadata['Description']}\")\n",
    "    print(f\"ingredients: {result.page_content}\")"
   ]
  },
  {
   "cell_type": "code",
   "execution_count": 32,
   "metadata": {},
   "outputs": [
    {
     "name": "stdout",
     "output_type": "stream",
     "text": [
      "Description: 낙지볶음\n",
      "ingredients: [낙지볶음 재료] 낙지 3마리| 대파 2대| 매운고추 2개| 배추 3잎| 당근 약간| 양파 1/2개| 새송이버섯 2개| 참기름 1작은술| 삶은계란 4개 [과메기 재료] 배추| 다시마| 김| 청양고추 [낙지볶음 양념] 고추가루 3큰술| 고추장 2큰술| 간장 2큰술| 설탕 2큰술| 물엿 1큰술| 다진 마늘 1큰술| 들기름 1큰술| 표고가루 1큰술| 청주 2큰술 [과메기 양념] 초고추장\n"
     ]
    }
   ],
   "source": [
    "#사용자의 질문\n",
    "query = \"낙지볶음의 재료는?\"\n",
    "\n",
    "#질문에 유사한 1개의 문서를 뽑아서 results에 저장\n",
    "results = db.similarity_search(query, k=1)\n",
    "\n",
    "#results의 데이터 출력 진행\n",
    "for result in results:\n",
    "    print(f\"Description: {result.metadata['Description']}\")\n",
    "    print(f\"ingredients: {result.page_content}\")"
   ]
  },
  {
   "cell_type": "code",
   "execution_count": 24,
   "metadata": {},
   "outputs": [
    {
     "name": "stdout",
     "output_type": "stream",
     "text": [
      "Description: 흑미와플\n",
      "ingredients: [재료] 흑미가루 120g| 노른자 2개| 설탕 1큰술| 소금 1/3작은술| 바닐라오일 약간| 베이킹 파우더 1작은술| 우유 100ml| 버터 60g| 흰자 2개| 설탕 1큰술\n"
     ]
    }
   ],
   "source": [
    "#사용자의 질문\n",
    "query = \"흑미와플의 재료는?\"\n",
    "\n",
    "#질문에 유사한 1개의 문서를 뽑아서 results에 저장\n",
    "results = db.similarity_search(query, k=1)\n",
    "\n",
    "#results의 데이터 출력 진행\n",
    "for result in results:\n",
    "    print(f\"Description: {result.metadata['Description']}\")\n",
    "    print(f\"ingredients: {result.page_content}\")"
   ]
  },
  {
   "cell_type": "code",
   "execution_count": 25,
   "metadata": {},
   "outputs": [
    {
     "name": "stdout",
     "output_type": "stream",
     "text": [
      "Description: 닭볶음탕\n",
      "ingredients: [재료] 닭 1마리| 마늘 6쪽| 양파 1개| 감자| 당근| 버섯| 파프리카| 파| 청량고추 [양념] 고추장 2큰술| 고추가루 3큰술| 간장 1.5 - 2큰술| 물엿 2큰술| 다진마늘 2큰술| 청양고추다진것| 요리술 1/2컵\n"
     ]
    }
   ],
   "source": [
    "#사용자의 질문\n",
    "query = \"닭볶음탕의 재료는 뭐야?\"\n",
    "\n",
    "#질문에 유사한 1개의 문서를 뽑아서 results에 저장\n",
    "results = db.similarity_search(query, k=1)\n",
    "\n",
    "#results의 데이터 출력 진행\n",
    "for result in results:\n",
    "    print(f\"Description: {result.metadata['Description']}\")\n",
    "    print(f\"ingredients: {result.page_content}\")"
   ]
  },
  {
   "cell_type": "code",
   "execution_count": 26,
   "metadata": {},
   "outputs": [
    {
     "name": "stdout",
     "output_type": "stream",
     "text": [
      "Description: 카레\n",
      "ingredients: [재료] 돼지고기| 당근| 감자| 파프리카| 양파| 올리브유 [양념] 시즈닝솔트| 후춧가루| 파키스탄카레| 한국카레| 일본카레\n"
     ]
    }
   ],
   "source": [
    "#사용자의 질문\n",
    "query = \"카레의 재료는 뭐야?\"\n",
    "\n",
    "#질문에 유사한 1개의 문서를 뽑아서 results에 저장\n",
    "results = db.similarity_search(query, k=1)\n",
    "\n",
    "#results의 데이터 출력 진행\n",
    "for result in results:\n",
    "    print(f\"Description: {result.metadata['Description']}\")\n",
    "    print(f\"ingredients: {result.page_content}\")"
   ]
  },
  {
   "cell_type": "code",
   "execution_count": 27,
   "metadata": {},
   "outputs": [
    {
     "name": "stdout",
     "output_type": "stream",
     "text": [
      "Description: 초코칩머핀\n",
      "ingredients: [재료] 루프 유기농 초코칩 머핀믹스 1개| 올리브유나 카놀라유 150ml| 계란 3개| 우유 50ml [양념] 코팅용 초콜렛 200g| 아몬드 다진것 적당히\n"
     ]
    }
   ],
   "source": [
    "#사용자의 질문\n",
    "query = \"초코칩머핀의 재료는 뭐야?\"\n",
    "\n",
    "#질문에 유사한 1개의 문서를 뽑아서 results에 저장\n",
    "results = db.similarity_search(query, k=1)\n",
    "\n",
    "#results의 데이터 출력 진행\n",
    "for result in results:\n",
    "    print(f\"Description: {result.metadata['Description']}\")\n",
    "    print(f\"ingredients: {result.page_content}\")"
   ]
  }
 ],
 "metadata": {
  "kernelspec": {
   "display_name": "zoo",
   "language": "python",
   "name": "202020933"
  },
  "language_info": {
   "codemirror_mode": {
    "name": "ipython",
    "version": 3
   },
   "file_extension": ".py",
   "mimetype": "text/x-python",
   "name": "python",
   "nbconvert_exporter": "python",
   "pygments_lexer": "ipython3",
   "version": "3.12.2"
  }
 },
 "nbformat": 4,
 "nbformat_minor": 4
}
