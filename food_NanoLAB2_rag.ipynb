{
 "cells": [
  {
   "cell_type": "code",
   "execution_count": 2,
   "metadata": {},
   "outputs": [
    {
     "name": "stdout",
     "output_type": "stream",
     "text": [
      "Requirement already satisfied: langchain in /usr/anaconda3/envs/med/lib/python3.13/site-packages (0.3.7)\n",
      "Requirement already satisfied: chromadb in /usr/anaconda3/envs/med/lib/python3.13/site-packages (0.5.18)\n",
      "Requirement already satisfied: pandas in /usr/anaconda3/envs/med/lib/python3.13/site-packages (2.2.3)\n",
      "Requirement already satisfied: PyYAML>=5.3 in /usr/anaconda3/envs/med/lib/python3.13/site-packages (from langchain) (6.0.2)\n",
      "Requirement already satisfied: SQLAlchemy<3,>=1.4 in /usr/anaconda3/envs/med/lib/python3.13/site-packages (from langchain) (2.0.35)\n",
      "Requirement already satisfied: aiohttp<4.0.0,>=3.8.3 in /usr/anaconda3/envs/med/lib/python3.13/site-packages (from langchain) (3.10.10)\n",
      "Requirement already satisfied: langchain-core<0.4.0,>=0.3.15 in /usr/anaconda3/envs/med/lib/python3.13/site-packages (from langchain) (0.3.15)\n",
      "Requirement already satisfied: langchain-text-splitters<0.4.0,>=0.3.0 in /usr/anaconda3/envs/med/lib/python3.13/site-packages (from langchain) (0.3.2)\n",
      "Requirement already satisfied: langsmith<0.2.0,>=0.1.17 in /usr/anaconda3/envs/med/lib/python3.13/site-packages (from langchain) (0.1.142)\n",
      "Requirement already satisfied: numpy<2.0.0,>=1.26.0 in /usr/anaconda3/envs/med/lib/python3.13/site-packages (from langchain) (1.26.4)\n",
      "Requirement already satisfied: pydantic<3.0.0,>=2.7.4 in /usr/anaconda3/envs/med/lib/python3.13/site-packages (from langchain) (2.9.2)\n",
      "Requirement already satisfied: requests<3,>=2 in /usr/anaconda3/envs/med/lib/python3.13/site-packages (from langchain) (2.32.3)\n",
      "Requirement already satisfied: tenacity!=8.4.0,<10,>=8.1.0 in /usr/anaconda3/envs/med/lib/python3.13/site-packages (from langchain) (9.0.0)\n",
      "Requirement already satisfied: build>=1.0.3 in /usr/anaconda3/envs/med/lib/python3.13/site-packages (from chromadb) (1.2.2.post1)\n",
      "Requirement already satisfied: chroma-hnswlib==0.7.6 in /usr/anaconda3/envs/med/lib/python3.13/site-packages (from chromadb) (0.7.6)\n",
      "Requirement already satisfied: fastapi>=0.95.2 in /usr/anaconda3/envs/med/lib/python3.13/site-packages (from chromadb) (0.115.4)\n",
      "Requirement already satisfied: uvicorn>=0.18.3 in /usr/anaconda3/envs/med/lib/python3.13/site-packages (from uvicorn[standard]>=0.18.3->chromadb) (0.32.0)\n",
      "Requirement already satisfied: posthog>=2.4.0 in /usr/anaconda3/envs/med/lib/python3.13/site-packages (from chromadb) (3.7.0)\n",
      "Requirement already satisfied: typing-extensions>=4.5.0 in /usr/anaconda3/envs/med/lib/python3.13/site-packages (from chromadb) (4.12.2)\n",
      "Requirement already satisfied: onnxruntime>=1.14.1 in /usr/anaconda3/envs/med/lib/python3.13/site-packages (from chromadb) (1.20.0)\n",
      "Requirement already satisfied: opentelemetry-api>=1.2.0 in /usr/anaconda3/envs/med/lib/python3.13/site-packages (from chromadb) (1.28.1)\n",
      "Requirement already satisfied: opentelemetry-exporter-otlp-proto-grpc>=1.2.0 in /usr/anaconda3/envs/med/lib/python3.13/site-packages (from chromadb) (1.28.1)\n",
      "Requirement already satisfied: opentelemetry-instrumentation-fastapi>=0.41b0 in /usr/anaconda3/envs/med/lib/python3.13/site-packages (from chromadb) (0.49b1)\n",
      "Requirement already satisfied: opentelemetry-sdk>=1.2.0 in /usr/anaconda3/envs/med/lib/python3.13/site-packages (from chromadb) (1.28.1)\n",
      "Requirement already satisfied: tokenizers>=0.13.2 in /usr/anaconda3/envs/med/lib/python3.13/site-packages (from chromadb) (0.20.3)\n",
      "Requirement already satisfied: pypika>=0.48.9 in /usr/anaconda3/envs/med/lib/python3.13/site-packages (from chromadb) (0.48.9)\n",
      "Requirement already satisfied: tqdm>=4.65.0 in /usr/anaconda3/envs/med/lib/python3.13/site-packages (from chromadb) (4.67.0)\n",
      "Requirement already satisfied: overrides>=7.3.1 in /usr/anaconda3/envs/med/lib/python3.13/site-packages (from chromadb) (7.7.0)\n",
      "Requirement already satisfied: importlib-resources in /usr/anaconda3/envs/med/lib/python3.13/site-packages (from chromadb) (6.4.5)\n",
      "Requirement already satisfied: grpcio>=1.58.0 in /usr/anaconda3/envs/med/lib/python3.13/site-packages (from chromadb) (1.67.1)\n",
      "Requirement already satisfied: bcrypt>=4.0.1 in /usr/anaconda3/envs/med/lib/python3.13/site-packages (from chromadb) (4.2.0)\n",
      "Requirement already satisfied: typer>=0.9.0 in /usr/anaconda3/envs/med/lib/python3.13/site-packages (from chromadb) (0.13.0)\n",
      "Requirement already satisfied: kubernetes>=28.1.0 in /usr/anaconda3/envs/med/lib/python3.13/site-packages (from chromadb) (31.0.0)\n",
      "Requirement already satisfied: mmh3>=4.0.1 in /usr/anaconda3/envs/med/lib/python3.13/site-packages (from chromadb) (5.0.1)\n",
      "Requirement already satisfied: orjson>=3.9.12 in /usr/anaconda3/envs/med/lib/python3.13/site-packages (from chromadb) (3.10.11)\n",
      "Requirement already satisfied: httpx>=0.27.0 in /usr/anaconda3/envs/med/lib/python3.13/site-packages (from chromadb) (0.27.2)\n",
      "Requirement already satisfied: rich>=10.11.0 in /usr/anaconda3/envs/med/lib/python3.13/site-packages (from chromadb) (13.9.4)\n",
      "Requirement already satisfied: python-dateutil>=2.8.2 in /usr/anaconda3/envs/med/lib/python3.13/site-packages (from pandas) (2.9.0.post0)\n",
      "Requirement already satisfied: pytz>=2020.1 in /usr/anaconda3/envs/med/lib/python3.13/site-packages (from pandas) (2024.2)\n",
      "Requirement already satisfied: tzdata>=2022.7 in /usr/anaconda3/envs/med/lib/python3.13/site-packages (from pandas) (2024.2)\n",
      "Requirement already satisfied: aiohappyeyeballs>=2.3.0 in /usr/anaconda3/envs/med/lib/python3.13/site-packages (from aiohttp<4.0.0,>=3.8.3->langchain) (2.4.3)\n",
      "Requirement already satisfied: aiosignal>=1.1.2 in /usr/anaconda3/envs/med/lib/python3.13/site-packages (from aiohttp<4.0.0,>=3.8.3->langchain) (1.3.1)\n",
      "Requirement already satisfied: attrs>=17.3.0 in /usr/anaconda3/envs/med/lib/python3.13/site-packages (from aiohttp<4.0.0,>=3.8.3->langchain) (24.2.0)\n",
      "Requirement already satisfied: frozenlist>=1.1.1 in /usr/anaconda3/envs/med/lib/python3.13/site-packages (from aiohttp<4.0.0,>=3.8.3->langchain) (1.5.0)\n",
      "Requirement already satisfied: multidict<7.0,>=4.5 in /usr/anaconda3/envs/med/lib/python3.13/site-packages (from aiohttp<4.0.0,>=3.8.3->langchain) (6.1.0)\n",
      "Requirement already satisfied: yarl<2.0,>=1.12.0 in /usr/anaconda3/envs/med/lib/python3.13/site-packages (from aiohttp<4.0.0,>=3.8.3->langchain) (1.17.1)\n",
      "Requirement already satisfied: packaging>=19.1 in /usr/anaconda3/envs/med/lib/python3.13/site-packages (from build>=1.0.3->chromadb) (24.2)\n",
      "Requirement already satisfied: pyproject_hooks in /usr/anaconda3/envs/med/lib/python3.13/site-packages (from build>=1.0.3->chromadb) (1.2.0)\n",
      "Requirement already satisfied: starlette<0.42.0,>=0.40.0 in /usr/anaconda3/envs/med/lib/python3.13/site-packages (from fastapi>=0.95.2->chromadb) (0.41.2)\n",
      "Requirement already satisfied: anyio in /usr/anaconda3/envs/med/lib/python3.13/site-packages (from httpx>=0.27.0->chromadb) (4.6.2.post1)\n",
      "Requirement already satisfied: certifi in /usr/anaconda3/envs/med/lib/python3.13/site-packages (from httpx>=0.27.0->chromadb) (2024.8.30)\n",
      "Requirement already satisfied: httpcore==1.* in /usr/anaconda3/envs/med/lib/python3.13/site-packages (from httpx>=0.27.0->chromadb) (1.0.6)\n",
      "Requirement already satisfied: idna in /usr/anaconda3/envs/med/lib/python3.13/site-packages (from httpx>=0.27.0->chromadb) (3.10)\n",
      "Requirement already satisfied: sniffio in /usr/anaconda3/envs/med/lib/python3.13/site-packages (from httpx>=0.27.0->chromadb) (1.3.1)\n",
      "Requirement already satisfied: h11<0.15,>=0.13 in /usr/anaconda3/envs/med/lib/python3.13/site-packages (from httpcore==1.*->httpx>=0.27.0->chromadb) (0.14.0)\n",
      "Requirement already satisfied: six>=1.9.0 in /usr/anaconda3/envs/med/lib/python3.13/site-packages (from kubernetes>=28.1.0->chromadb) (1.16.0)\n",
      "Requirement already satisfied: google-auth>=1.0.1 in /usr/anaconda3/envs/med/lib/python3.13/site-packages (from kubernetes>=28.1.0->chromadb) (2.36.0)\n",
      "Requirement already satisfied: websocket-client!=0.40.0,!=0.41.*,!=0.42.*,>=0.32.0 in /usr/anaconda3/envs/med/lib/python3.13/site-packages (from kubernetes>=28.1.0->chromadb) (1.8.0)\n",
      "Requirement already satisfied: requests-oauthlib in /usr/anaconda3/envs/med/lib/python3.13/site-packages (from kubernetes>=28.1.0->chromadb) (2.0.0)\n",
      "Requirement already satisfied: oauthlib>=3.2.2 in /usr/anaconda3/envs/med/lib/python3.13/site-packages (from kubernetes>=28.1.0->chromadb) (3.2.2)\n",
      "Requirement already satisfied: urllib3>=1.24.2 in /usr/anaconda3/envs/med/lib/python3.13/site-packages (from kubernetes>=28.1.0->chromadb) (2.2.3)\n",
      "Requirement already satisfied: durationpy>=0.7 in /usr/anaconda3/envs/med/lib/python3.13/site-packages (from kubernetes>=28.1.0->chromadb) (0.9)\n",
      "Requirement already satisfied: jsonpatch<2.0,>=1.33 in /usr/anaconda3/envs/med/lib/python3.13/site-packages (from langchain-core<0.4.0,>=0.3.15->langchain) (1.33)\n",
      "Requirement already satisfied: requests-toolbelt<2.0.0,>=1.0.0 in /usr/anaconda3/envs/med/lib/python3.13/site-packages (from langsmith<0.2.0,>=0.1.17->langchain) (1.0.0)\n",
      "Requirement already satisfied: coloredlogs in /usr/anaconda3/envs/med/lib/python3.13/site-packages (from onnxruntime>=1.14.1->chromadb) (15.0.1)\n",
      "Requirement already satisfied: flatbuffers in /usr/anaconda3/envs/med/lib/python3.13/site-packages (from onnxruntime>=1.14.1->chromadb) (24.3.25)\n",
      "Requirement already satisfied: protobuf in /usr/anaconda3/envs/med/lib/python3.13/site-packages (from onnxruntime>=1.14.1->chromadb) (5.28.3)\n",
      "Requirement already satisfied: sympy in /usr/anaconda3/envs/med/lib/python3.13/site-packages (from onnxruntime>=1.14.1->chromadb) (1.13.1)\n",
      "Requirement already satisfied: deprecated>=1.2.6 in /usr/anaconda3/envs/med/lib/python3.13/site-packages (from opentelemetry-api>=1.2.0->chromadb) (1.2.14)\n",
      "Requirement already satisfied: importlib-metadata<=8.5.0,>=6.0 in /usr/anaconda3/envs/med/lib/python3.13/site-packages (from opentelemetry-api>=1.2.0->chromadb) (8.5.0)\n",
      "Requirement already satisfied: googleapis-common-protos~=1.52 in /usr/anaconda3/envs/med/lib/python3.13/site-packages (from opentelemetry-exporter-otlp-proto-grpc>=1.2.0->chromadb) (1.65.0)\n",
      "Requirement already satisfied: opentelemetry-exporter-otlp-proto-common==1.28.1 in /usr/anaconda3/envs/med/lib/python3.13/site-packages (from opentelemetry-exporter-otlp-proto-grpc>=1.2.0->chromadb) (1.28.1)\n",
      "Requirement already satisfied: opentelemetry-proto==1.28.1 in /usr/anaconda3/envs/med/lib/python3.13/site-packages (from opentelemetry-exporter-otlp-proto-grpc>=1.2.0->chromadb) (1.28.1)\n",
      "Requirement already satisfied: opentelemetry-instrumentation-asgi==0.49b1 in /usr/anaconda3/envs/med/lib/python3.13/site-packages (from opentelemetry-instrumentation-fastapi>=0.41b0->chromadb) (0.49b1)\n",
      "Requirement already satisfied: opentelemetry-instrumentation==0.49b1 in /usr/anaconda3/envs/med/lib/python3.13/site-packages (from opentelemetry-instrumentation-fastapi>=0.41b0->chromadb) (0.49b1)\n",
      "Requirement already satisfied: opentelemetry-semantic-conventions==0.49b1 in /usr/anaconda3/envs/med/lib/python3.13/site-packages (from opentelemetry-instrumentation-fastapi>=0.41b0->chromadb) (0.49b1)\n",
      "Requirement already satisfied: opentelemetry-util-http==0.49b1 in /usr/anaconda3/envs/med/lib/python3.13/site-packages (from opentelemetry-instrumentation-fastapi>=0.41b0->chromadb) (0.49b1)\n",
      "Requirement already satisfied: wrapt<2.0.0,>=1.0.0 in /usr/anaconda3/envs/med/lib/python3.13/site-packages (from opentelemetry-instrumentation==0.49b1->opentelemetry-instrumentation-fastapi>=0.41b0->chromadb) (1.16.0)\n",
      "Requirement already satisfied: asgiref~=3.0 in /usr/anaconda3/envs/med/lib/python3.13/site-packages (from opentelemetry-instrumentation-asgi==0.49b1->opentelemetry-instrumentation-fastapi>=0.41b0->chromadb) (3.8.1)\n",
      "Requirement already satisfied: monotonic>=1.5 in /usr/anaconda3/envs/med/lib/python3.13/site-packages (from posthog>=2.4.0->chromadb) (1.6)\n",
      "Requirement already satisfied: backoff>=1.10.0 in /usr/anaconda3/envs/med/lib/python3.13/site-packages (from posthog>=2.4.0->chromadb) (2.2.1)\n",
      "Requirement already satisfied: annotated-types>=0.6.0 in /usr/anaconda3/envs/med/lib/python3.13/site-packages (from pydantic<3.0.0,>=2.7.4->langchain) (0.7.0)\n",
      "Requirement already satisfied: pydantic-core==2.23.4 in /usr/anaconda3/envs/med/lib/python3.13/site-packages (from pydantic<3.0.0,>=2.7.4->langchain) (2.23.4)\n",
      "Requirement already satisfied: charset-normalizer<4,>=2 in /usr/anaconda3/envs/med/lib/python3.13/site-packages (from requests<3,>=2->langchain) (3.4.0)\n",
      "Requirement already satisfied: markdown-it-py>=2.2.0 in /usr/anaconda3/envs/med/lib/python3.13/site-packages (from rich>=10.11.0->chromadb) (3.0.0)\n",
      "Requirement already satisfied: pygments<3.0.0,>=2.13.0 in /usr/anaconda3/envs/med/lib/python3.13/site-packages (from rich>=10.11.0->chromadb) (2.18.0)\n",
      "Requirement already satisfied: huggingface-hub<1.0,>=0.16.4 in /usr/anaconda3/envs/med/lib/python3.13/site-packages (from tokenizers>=0.13.2->chromadb) (0.26.2)\n",
      "Requirement already satisfied: click>=8.0.0 in /usr/anaconda3/envs/med/lib/python3.13/site-packages (from typer>=0.9.0->chromadb) (8.1.7)\n",
      "Requirement already satisfied: shellingham>=1.3.0 in /usr/anaconda3/envs/med/lib/python3.13/site-packages (from typer>=0.9.0->chromadb) (1.5.4)\n",
      "Requirement already satisfied: httptools>=0.5.0 in /usr/anaconda3/envs/med/lib/python3.13/site-packages (from uvicorn[standard]>=0.18.3->chromadb) (0.6.4)\n",
      "Requirement already satisfied: python-dotenv>=0.13 in /usr/anaconda3/envs/med/lib/python3.13/site-packages (from uvicorn[standard]>=0.18.3->chromadb) (1.0.1)\n",
      "Requirement already satisfied: uvloop!=0.15.0,!=0.15.1,>=0.14.0 in /usr/anaconda3/envs/med/lib/python3.13/site-packages (from uvicorn[standard]>=0.18.3->chromadb) (0.21.0)\n",
      "Requirement already satisfied: watchfiles>=0.13 in /usr/anaconda3/envs/med/lib/python3.13/site-packages (from uvicorn[standard]>=0.18.3->chromadb) (0.24.0)\n",
      "Requirement already satisfied: websockets>=10.4 in /usr/anaconda3/envs/med/lib/python3.13/site-packages (from uvicorn[standard]>=0.18.3->chromadb) (14.0)\n",
      "Requirement already satisfied: cachetools<6.0,>=2.0.0 in /usr/anaconda3/envs/med/lib/python3.13/site-packages (from google-auth>=1.0.1->kubernetes>=28.1.0->chromadb) (5.5.0)\n",
      "Requirement already satisfied: pyasn1-modules>=0.2.1 in /usr/anaconda3/envs/med/lib/python3.13/site-packages (from google-auth>=1.0.1->kubernetes>=28.1.0->chromadb) (0.4.1)\n",
      "Requirement already satisfied: rsa<5,>=3.1.4 in /usr/anaconda3/envs/med/lib/python3.13/site-packages (from google-auth>=1.0.1->kubernetes>=28.1.0->chromadb) (4.9)\n",
      "Requirement already satisfied: filelock in /usr/anaconda3/envs/med/lib/python3.13/site-packages (from huggingface-hub<1.0,>=0.16.4->tokenizers>=0.13.2->chromadb) (3.16.1)\n",
      "Requirement already satisfied: fsspec>=2023.5.0 in /usr/anaconda3/envs/med/lib/python3.13/site-packages (from huggingface-hub<1.0,>=0.16.4->tokenizers>=0.13.2->chromadb) (2024.10.0)\n",
      "Requirement already satisfied: zipp>=3.20 in /usr/anaconda3/envs/med/lib/python3.13/site-packages (from importlib-metadata<=8.5.0,>=6.0->opentelemetry-api>=1.2.0->chromadb) (3.20.2)\n",
      "Requirement already satisfied: jsonpointer>=1.9 in /usr/anaconda3/envs/med/lib/python3.13/site-packages (from jsonpatch<2.0,>=1.33->langchain-core<0.4.0,>=0.3.15->langchain) (3.0.0)\n",
      "Requirement already satisfied: mdurl~=0.1 in /usr/anaconda3/envs/med/lib/python3.13/site-packages (from markdown-it-py>=2.2.0->rich>=10.11.0->chromadb) (0.1.2)\n",
      "Requirement already satisfied: propcache>=0.2.0 in /usr/anaconda3/envs/med/lib/python3.13/site-packages (from yarl<2.0,>=1.12.0->aiohttp<4.0.0,>=3.8.3->langchain) (0.2.0)\n",
      "Requirement already satisfied: humanfriendly>=9.1 in /usr/anaconda3/envs/med/lib/python3.13/site-packages (from coloredlogs->onnxruntime>=1.14.1->chromadb) (10.0)\n",
      "Requirement already satisfied: mpmath<1.4,>=1.1.0 in /usr/anaconda3/envs/med/lib/python3.13/site-packages (from sympy->onnxruntime>=1.14.1->chromadb) (1.3.0)\n",
      "Requirement already satisfied: pyasn1<0.7.0,>=0.4.6 in /usr/anaconda3/envs/med/lib/python3.13/site-packages (from pyasn1-modules>=0.2.1->google-auth>=1.0.1->kubernetes>=28.1.0->chromadb) (0.6.1)\n"
     ]
    }
   ],
   "source": [
    "# 랭체인, 크로마db, 판다스 설치 진행\n",
    "!pip install langchain chromadb pandas"
   ]
  },
  {
   "cell_type": "code",
   "execution_count": 3,
   "metadata": {},
   "outputs": [
    {
     "name": "stdout",
     "output_type": "stream",
     "text": [
      "  CKG_NM                                        CKG_MTRL_CN\n",
      "0  어묵김말이  [재료] 어묵 2개| 김밥용김 3장| 당면 1움큼| 양파 1/2개| 당근 1/2개|...\n",
      "1  두부새우전  [재료] 두부 1/2모| 당근 1/2개| 고추 2개| 브로콜리 1/4개| 새우 4마...\n",
      "2     알밥  [재료] 밥 1+1/2공기| 당근 1/4개| 치자단무지 1/2개| 신김치 1쪽| 무...\n",
      "3  현미호두죽           [재료] 현미 4컵| 찹쌀 2컵| 호두 50g| 물 1/2컵| 소금 약간\n",
      "4   북어갈비  [재료] 북어포 1마리| 찹쌀가루 1C [양념] 간장 2T| 설탕 1T| 물 1T|...\n"
     ]
    }
   ],
   "source": [
    "import pandas as pd\n",
    "\n",
    "# CSV 파일 로드\n",
    "data = pd.read_csv('./food_data.csv')\n",
    "print(data.head())"
   ]
  },
  {
   "cell_type": "code",
   "execution_count": 4,
   "metadata": {},
   "outputs": [
    {
     "name": "stdout",
     "output_type": "stream",
     "text": [
      "224\n",
      "224\n",
      "200\n",
      "200\n"
     ]
    }
   ],
   "source": [
    "# 데이터에서 음식 이름과 재료만 뽑아서 200개만 저장\n",
    "name = data[\"CKG_NM\"].tolist()\n",
    "ingredients = data[\"CKG_MTRL_CN\"].tolist()\n",
    "\n",
    "print(len(name))\n",
    "print(len(ingredients))\n",
    "\n",
    "name_list = name[0:200]\n",
    "ingredients_list = ingredients[0:200]\n",
    "\n",
    "print(len(name_list))\n",
    "print(len(ingredients_list))"
   ]
  },
  {
   "cell_type": "code",
   "execution_count": 5,
   "metadata": {},
   "outputs": [
    {
     "name": "stderr",
     "output_type": "stream",
     "text": [
      "/tmp/ipykernel_1607409/3788333414.py:5: LangChainDeprecationWarning: The class `HuggingFaceEmbeddings` was deprecated in LangChain 0.2.2 and will be removed in 1.0. An updated version of the class exists in the :class:`~langchain-huggingface package and should be used instead. To use it run `pip install -U :class:`~langchain-huggingface` and import as `from :class:`~langchain_huggingface import HuggingFaceEmbeddings``.\n",
      "  embedding_model = HuggingFaceEmbeddings(model_name=\"intfloat/multilingual-e5-large-instruct\")\n",
      "/usr/anaconda3/envs/med/lib/python3.13/site-packages/sentence_transformers/cross_encoder/CrossEncoder.py:13: TqdmWarning: IProgress not found. Please update jupyter and ipywidgets. See https://ipywidgets.readthedocs.io/en/stable/user_install.html\n",
      "  from tqdm.autonotebook import tqdm, trange\n"
     ]
    }
   ],
   "source": [
    "from langchain.embeddings import HuggingFaceEmbeddings\n",
    "from langchain.vectorstores import Chroma\n",
    "\n",
    "# 모델 지정 모델은 허깅페이스의 intfloat/multilingual-e5-large-instruct 활용\n",
    "embedding_model = HuggingFaceEmbeddings(model_name=\"intfloat/multilingual-e5-large-instruct\")\n",
    "\n",
    "# 크로마 db에 저장\n",
    "db = Chroma.from_texts(ingredients_list, embedding_model, metadatas=[{\"Description\": name} for name in name_list])"
   ]
  },
  {
   "cell_type": "code",
   "execution_count": 6,
   "metadata": {},
   "outputs": [
    {
     "name": "stdout",
     "output_type": "stream",
     "text": [
      "Description: 어묵김말이\n",
      "ingredients: [재료] 어묵 2개| 김밥용김 3장| 당면 1움큼| 양파 1/2개| 당근 1/2개| 깻잎 6장| 튀김가루 1컵 | 올리브유 적당량| 간장 1T| 참기름 1T\n"
     ]
    }
   ],
   "source": [
    "#사용자의 질문\n",
    "query = \"어묵김말이의 재료는?\"\n",
    "\n",
    "#질문에 유사한 1개의 문서를 뽑아서 results에 저장\n",
    "results = db.similarity_search(query, k=1)\n",
    "\n",
    "#results의 데이터 출력 진행\n",
    "for result in results:\n",
    "    print(f\"Description: {result.metadata['Description']}\")\n",
    "    print(f\"ingredients: {result.page_content}\")"
   ]
  },
  {
   "cell_type": "code",
   "execution_count": 7,
   "metadata": {},
   "outputs": [
    {
     "name": "stdout",
     "output_type": "stream",
     "text": [
      "Description: 두부새우전\n",
      "ingredients: [재료] 두부 1/2모| 당근 1/2개| 고추 2개| 브로콜리 1/4개| 새우 4마리| 녹말가루| 계란 1개\n"
     ]
    }
   ],
   "source": [
    "#사용자의 질문\n",
    "query = \"두부새우전의 재료는?\"\n",
    "\n",
    "#질문에 유사한 1개의 문서를 뽑아서 results에 저장\n",
    "results = db.similarity_search(query, k=1)\n",
    "\n",
    "#results의 데이터 출력 진행\n",
    "for result in results:\n",
    "    print(f\"Description: {result.metadata['Description']}\")\n",
    "    print(f\"ingredients: {result.page_content}\")"
   ]
  },
  {
   "cell_type": "code",
   "execution_count": 8,
   "metadata": {},
   "outputs": [
    {
     "name": "stdout",
     "output_type": "stream",
     "text": [
      "Description: 현미호두죽\n",
      "ingredients: [재료] 현미 4컵| 찹쌀 2컵| 호두 50g| 물 1/2컵| 소금 약간\n"
     ]
    }
   ],
   "source": [
    "#사용자의 질문\n",
    "query = \"현미호두죽의 재료는?\"\n",
    "\n",
    "#질문에 유사한 1개의 문서를 뽑아서 results에 저장\n",
    "results = db.similarity_search(query, k=1)\n",
    "\n",
    "#results의 데이터 출력 진행\n",
    "for result in results:\n",
    "    print(f\"Description: {result.metadata['Description']}\")\n",
    "    print(f\"ingredients: {result.page_content}\")"
   ]
  },
  {
   "cell_type": "code",
   "execution_count": 37,
   "metadata": {},
   "outputs": [
    {
     "name": "stdout",
     "output_type": "stream",
     "text": [
      "Description: 삼겹살파인애플말이\n",
      "ingredients: [재료] 삼겹살 4줄| 통조림 파인애플 3쪽 [양념] 다시마물 1큰술| 간장 2큰술| 설탕 1큰술| 청주 1큰술| 생강즙 약간\n"
     ]
    }
   ],
   "source": [
    "#사용자의 질문\n",
    "query = \"삼겹살파인애플말이의 재료는?\"\n",
    "\n",
    "#질문에 유사한 1개의 문서를 뽑아서 results에 저장\n",
    "results = db.similarity_search(query, k=1)\n",
    "\n",
    "#results의 데이터 출력 진행\n",
    "for result in results:\n",
    "    print(f\"Description: {result.metadata['Description']}\")\n",
    "    print(f\"ingredients: {result.page_content}\")"
   ]
  },
  {
   "cell_type": "code",
   "execution_count": 10,
   "metadata": {},
   "outputs": [
    {
     "name": "stdout",
     "output_type": "stream",
     "text": [
      "Description: 양파링튀김\n",
      "ingredients: [재료] 양파1개| 빵가루| 달걀 노른자1개| 밀가루1C| 물 약간| 파슬리 \n"
     ]
    }
   ],
   "source": [
    "#사용자의 질문\n",
    "query = \"양파링튀김의 재료는?\"\n",
    "\n",
    "#질문에 유사한 1개의 문서를 뽑아서 results에 저장\n",
    "results = db.similarity_search(query, k=1)\n",
    "\n",
    "#results의 데이터 출력 진행\n",
    "for result in results:\n",
    "    print(f\"Description: {result.metadata['Description']}\")\n",
    "    print(f\"ingredients: {result.page_content}\")"
   ]
  },
  {
   "cell_type": "code",
   "execution_count": 11,
   "metadata": {},
   "outputs": [
    {
     "name": "stdout",
     "output_type": "stream",
     "text": [
      "Description: 베이컨김치말이밥\n",
      "ingredients: [재료] 밥 1공기| 김치 1/6포기| 베이컨 적당량 | 깻잎 5장| 양파 1/4개\n"
     ]
    }
   ],
   "source": [
    "#사용자의 질문\n",
    "query = \"베이컨김치말이밥의 재료는?\"\n",
    "\n",
    "#질문에 유사한 1개의 문서를 뽑아서 results에 저장\n",
    "results = db.similarity_search(query, k=1)\n",
    "\n",
    "#results의 데이터 출력 진행\n",
    "for result in results:\n",
    "    print(f\"Description: {result.metadata['Description']}\")\n",
    "    print(f\"ingredients: {result.page_content}\")"
   ]
  },
  {
   "cell_type": "code",
   "execution_count": 12,
   "metadata": {},
   "outputs": [
    {
     "name": "stdout",
     "output_type": "stream",
     "text": [
      "Description: 뚝배기라면\n",
      "ingredients: [재료] 좋아하는 종류의 라면 1봉지| 김치 1/4포기| 굴 5~6개| 파 1개| 청or홍고추 1개 [양념] 고춧가루 약간\n"
     ]
    }
   ],
   "source": [
    "#사용자의 질문\n",
    "query = \"뚝배기라면의 재료는?\"\n",
    "\n",
    "#질문에 유사한 1개의 문서를 뽑아서 results에 저장\n",
    "results = db.similarity_search(query, k=1)\n",
    "\n",
    "#results의 데이터 출력 진행\n",
    "for result in results:\n",
    "    print(f\"Description: {result.metadata['Description']}\")\n",
    "    print(f\"ingredients: {result.page_content}\")"
   ]
  },
  {
   "cell_type": "code",
   "execution_count": 13,
   "metadata": {},
   "outputs": [
    {
     "name": "stdout",
     "output_type": "stream",
     "text": [
      "Description: 꼬마김밥\n",
      "ingredients: [재료] 밥 2공기| 김밥용어묵| 오이 1/2개| 캔햄이나김밥용햄| 김밥용단무지| 김 [양념] 참기름 1T| 맛소금 1T\n"
     ]
    }
   ],
   "source": [
    "#사용자의 질문\n",
    "query = \"꼬마김밥의 재료는?\"\n",
    "\n",
    "#질문에 유사한 1개의 문서를 뽑아서 results에 저장\n",
    "results = db.similarity_search(query, k=1)\n",
    "\n",
    "#results의 데이터 출력 진행\n",
    "for result in results:\n",
    "    print(f\"Description: {result.metadata['Description']}\")\n",
    "    print(f\"ingredients: {result.page_content}\")"
   ]
  },
  {
   "cell_type": "code",
   "execution_count": 14,
   "metadata": {},
   "outputs": [
    {
     "name": "stdout",
     "output_type": "stream",
     "text": [
      "Description: 뮈슬리초코칩쿠키\n",
      "ingredients: [재료] 박력분 250그램| 버터 135그램| 베이킹 파우더 4그램| 베이킹 소다 2그램| 계란 1개| 설탕 125그램| 초코칩 200그램| 유기농 초코 뮈슬리 100~150그램\n"
     ]
    }
   ],
   "source": [
    "#사용자의 질문\n",
    "query = \"뮈슬리초코칩쿠키의 재료는?\"\n",
    "\n",
    "#질문에 유사한 1개의 문서를 뽑아서 results에 저장\n",
    "results = db.similarity_search(query, k=1)\n",
    "\n",
    "#results의 데이터 출력 진행\n",
    "for result in results:\n",
    "    print(f\"Description: {result.metadata['Description']}\")\n",
    "    print(f\"ingredients: {result.page_content}\")"
   ]
  },
  {
   "cell_type": "code",
   "execution_count": 15,
   "metadata": {},
   "outputs": [
    {
     "name": "stdout",
     "output_type": "stream",
     "text": [
      "Description: 대추케이크\n",
      "ingredients: [재료] 대추 170g| 두유 250g| 포도씨유 80g| 베이킹소다 1/2ts| 베이킹파우더 1ts| 우리밀통밀 150g| 호두 80g| 물 200g [양념] 계피가루 1/4ts| 설탕 120g| 소금 1/4ts\n",
      "Description: 찹쌀경단\n",
      "ingredients: [재료] 찹쌀가루 300g| 물 11스푼| 고운팥앙금 적당량| 노랑카스테라가루 약간| 연두색카스테라가루 약간| 흑임자가루 약간| 계피가루 약간| 생밤 1개| 대추 4개\n",
      "Description: 대추스콘\n",
      "ingredients: [재료] 강력분 150그램| 박력분 150그램| 설탕 20그램| 소금 2그램| 베이킹 파우더 5그램| 버터 45그램| 건포도 6그램| 달갈 1개| 우유 100ml| 대추야자 씨뺀것 70그램| 계란물 약간\n"
     ]
    }
   ],
   "source": [
    "#사용자의 질문\n",
    "query = \"대추스콘의 재료는?\"\n",
    "\n",
    "#질문에 유사한 1개의 문서를 뽑아서 results에 저장\n",
    "results = db.similarity_search(query, k=3)\n",
    "\n",
    "#results의 데이터 출력 진행\n",
    "for result in results:\n",
    "    print(f\"Description: {result.metadata['Description']}\")\n",
    "    print(f\"ingredients: {result.page_content}\")"
   ]
  },
  {
   "cell_type": "code",
   "execution_count": 16,
   "metadata": {},
   "outputs": [
    {
     "name": "stdout",
     "output_type": "stream",
     "text": [
      "Description: 사천짜장떡볶이\n",
      "ingredients: [재료] 떡볶이떡 400~500그램 정도| 양파 1/2개| 양배추 큰것 1/8통| 대파 2줄기| 어묵 2장| 쫄면 200그램 정도| 물 또는 육수 1+1/2컵 [양념] 다*다(소고기맛 조미료) 1/2큰술| 춘장 2큰술| 고추장 1큰술| 설탕 2큰술| 다진마늘 1큰술\n"
     ]
    }
   ],
   "source": [
    "#사용자의 질문\n",
    "query = \"사천짜장떡볶이의 재료는?\"\n",
    "\n",
    "#질문에 유사한 1개의 문서를 뽑아서 results에 저장\n",
    "results = db.similarity_search(query, k=1)\n",
    "\n",
    "#results의 데이터 출력 진행\n",
    "for result in results:\n",
    "    print(f\"Description: {result.metadata['Description']}\")\n",
    "    print(f\"ingredients: {result.page_content}\")"
   ]
  },
  {
   "cell_type": "code",
   "execution_count": 17,
   "metadata": {},
   "outputs": [
    {
     "name": "stdout",
     "output_type": "stream",
     "text": [
      "Description: 스팸오이식빵롤\n",
      "ingredients: [재료] 식빵 4장| 스팸 1/3캔| 오이 1개| 체다치즈(노란치즈) [양념] 머스터드| 피클| 마요네즈\n"
     ]
    }
   ],
   "source": [
    "#사용자의 질문\n",
    "query = \"스팸오이식빵롤의 재료는?\"\n",
    "\n",
    "#질문에 유사한 1개의 문서를 뽑아서 results에 저장\n",
    "results = db.similarity_search(query, k=1)\n",
    "\n",
    "#results의 데이터 출력 진행\n",
    "for result in results:\n",
    "    print(f\"Description: {result.metadata['Description']}\")\n",
    "    print(f\"ingredients: {result.page_content}\")"
   ]
  },
  {
   "cell_type": "code",
   "execution_count": 29,
   "metadata": {},
   "outputs": [
    {
     "name": "stdout",
     "output_type": "stream",
     "text": [
      "Description: 새우볶음밥고로케\n",
      "ingredients: [재료] 새우 10마리| 밥 2공기| 김치 1/4포기| 당근 1/2개| 감자 1/2개| 양파 1/2개| 빵가루| 달걀| 밀가루\n"
     ]
    }
   ],
   "source": [
    "#사용자의 질문\n",
    "query = \"새우볶음밥고로케의 재료는?\"\n",
    "\n",
    "#질문에 유사한 1개의 문서를 뽑아서 results에 저장\n",
    "results = db.similarity_search(query, k=1)\n",
    "\n",
    "#results의 데이터 출력 진행\n",
    "for result in results:\n",
    "    print(f\"Description: {result.metadata['Description']}\")\n",
    "    print(f\"ingredients: {result.page_content}\")"
   ]
  },
  {
   "cell_type": "code",
   "execution_count": 19,
   "metadata": {},
   "outputs": [
    {
     "name": "stdout",
     "output_type": "stream",
     "text": [
      "Description: 카레새우삼각김밥\n",
      "ingredients: [재료] 새우 7마리| 양파 1/4개| 김치 1/6포기| 밥지을쌀| 김밥용김| 계란| 밀가루| 빵가루 [양념] 백세 카레가루 2T\n"
     ]
    }
   ],
   "source": [
    "#사용자의 질문\n",
    "query = \"카레새우삼각김밥의 재료는?\"\n",
    "\n",
    "#질문에 유사한 1개의 문서를 뽑아서 results에 저장\n",
    "results = db.similarity_search(query, k=1)\n",
    "\n",
    "#results의 데이터 출력 진행\n",
    "for result in results:\n",
    "    print(f\"Description: {result.metadata['Description']}\")\n",
    "    print(f\"ingredients: {result.page_content}\")"
   ]
  },
  {
   "cell_type": "code",
   "execution_count": 20,
   "metadata": {},
   "outputs": [
    {
     "name": "stdout",
     "output_type": "stream",
     "text": [
      "Description: 호두가래떡구이\n",
      "ingredients: [재료] 가래떡 1개| 호두 15알 정도 [양념] 깨 3T| 꿀 5T\n"
     ]
    }
   ],
   "source": [
    "#사용자의 질문\n",
    "query = \"호두가래떡구이의 재료는?\"\n",
    "\n",
    "#질문에 유사한 1개의 문서를 뽑아서 results에 저장\n",
    "results = db.similarity_search(query, k=1)\n",
    "\n",
    "#results의 데이터 출력 진행\n",
    "for result in results:\n",
    "    print(f\"Description: {result.metadata['Description']}\")\n",
    "    print(f\"ingredients: {result.page_content}\")"
   ]
  },
  {
   "cell_type": "code",
   "execution_count": 21,
   "metadata": {},
   "outputs": [
    {
     "name": "stdout",
     "output_type": "stream",
     "text": [
      "Description: 오코노미야키\n",
      "ingredients: [재료] 양배추 1/2통| 숙주 1줌| 오징어 1마리| 새우 6마리| 베이컨 2줄| 계란 1개| 실파 약간 [오코노미야키반죽] 밀가루 1C| 물 1C| 혼다시 1T| 후추&소금 약간 [양념] 돈가스소스| 마요네즈\n"
     ]
    }
   ],
   "source": [
    "#사용자의 질문\n",
    "query = \"오코노미야키의 재료는?\"\n",
    "\n",
    "#질문에 유사한 1개의 문서를 뽑아서 results에 저장\n",
    "results = db.similarity_search(query, k=1)\n",
    "\n",
    "#results의 데이터 출력 진행\n",
    "for result in results:\n",
    "    print(f\"Description: {result.metadata['Description']}\")\n",
    "    print(f\"ingredients: {result.page_content}\")"
   ]
  },
  {
   "cell_type": "code",
   "execution_count": 22,
   "metadata": {},
   "outputs": [
    {
     "name": "stdout",
     "output_type": "stream",
     "text": [
      "Description: 묵은지꽁치조림\n",
      "ingredients: [재료] 꽁치| 묵은지| 무 [양념] 고춧가루| 후춧가루| 다진마늘\n"
     ]
    }
   ],
   "source": [
    "#사용자의 질문\n",
    "query = \"묵은지꽁치조림의 재료는?\"\n",
    "\n",
    "#질문에 유사한 1개의 문서를 뽑아서 results에 저장\n",
    "results = db.similarity_search(query, k=1)\n",
    "\n",
    "#results의 데이터 출력 진행\n",
    "for result in results:\n",
    "    print(f\"Description: {result.metadata['Description']}\")\n",
    "    print(f\"ingredients: {result.page_content}\")"
   ]
  },
  {
   "cell_type": "code",
   "execution_count": 32,
   "metadata": {},
   "outputs": [
    {
     "name": "stdout",
     "output_type": "stream",
     "text": [
      "Description: 낙지볶음\n",
      "ingredients: [낙지볶음 재료] 낙지 3마리| 대파 2대| 매운고추 2개| 배추 3잎| 당근 약간| 양파 1/2개| 새송이버섯 2개| 참기름 1작은술| 삶은계란 4개 [과메기 재료] 배추| 다시마| 김| 청양고추 [낙지볶음 양념] 고추가루 3큰술| 고추장 2큰술| 간장 2큰술| 설탕 2큰술| 물엿 1큰술| 다진 마늘 1큰술| 들기름 1큰술| 표고가루 1큰술| 청주 2큰술 [과메기 양념] 초고추장\n"
     ]
    }
   ],
   "source": [
    "#사용자의 질문\n",
    "query = \"낙지볶음의 재료는?\"\n",
    "\n",
    "#질문에 유사한 1개의 문서를 뽑아서 results에 저장\n",
    "results = db.similarity_search(query, k=1)\n",
    "\n",
    "#results의 데이터 출력 진행\n",
    "for result in results:\n",
    "    print(f\"Description: {result.metadata['Description']}\")\n",
    "    print(f\"ingredients: {result.page_content}\")"
   ]
  },
  {
   "cell_type": "code",
   "execution_count": 24,
   "metadata": {},
   "outputs": [
    {
     "name": "stdout",
     "output_type": "stream",
     "text": [
      "Description: 흑미와플\n",
      "ingredients: [재료] 흑미가루 120g| 노른자 2개| 설탕 1큰술| 소금 1/3작은술| 바닐라오일 약간| 베이킹 파우더 1작은술| 우유 100ml| 버터 60g| 흰자 2개| 설탕 1큰술\n"
     ]
    }
   ],
   "source": [
    "#사용자의 질문\n",
    "query = \"흑미와플의 재료는?\"\n",
    "\n",
    "#질문에 유사한 1개의 문서를 뽑아서 results에 저장\n",
    "results = db.similarity_search(query, k=1)\n",
    "\n",
    "#results의 데이터 출력 진행\n",
    "for result in results:\n",
    "    print(f\"Description: {result.metadata['Description']}\")\n",
    "    print(f\"ingredients: {result.page_content}\")"
   ]
  },
  {
   "cell_type": "code",
   "execution_count": 25,
   "metadata": {},
   "outputs": [
    {
     "name": "stdout",
     "output_type": "stream",
     "text": [
      "Description: 닭볶음탕\n",
      "ingredients: [재료] 닭 1마리| 마늘 6쪽| 양파 1개| 감자| 당근| 버섯| 파프리카| 파| 청량고추 [양념] 고추장 2큰술| 고추가루 3큰술| 간장 1.5 - 2큰술| 물엿 2큰술| 다진마늘 2큰술| 청양고추다진것| 요리술 1/2컵\n"
     ]
    }
   ],
   "source": [
    "#사용자의 질문\n",
    "query = \"닭볶음탕의 재료는 뭐야?\"\n",
    "\n",
    "#질문에 유사한 1개의 문서를 뽑아서 results에 저장\n",
    "results = db.similarity_search(query, k=1)\n",
    "\n",
    "#results의 데이터 출력 진행\n",
    "for result in results:\n",
    "    print(f\"Description: {result.metadata['Description']}\")\n",
    "    print(f\"ingredients: {result.page_content}\")"
   ]
  },
  {
   "cell_type": "code",
   "execution_count": 26,
   "metadata": {},
   "outputs": [
    {
     "name": "stdout",
     "output_type": "stream",
     "text": [
      "Description: 카레\n",
      "ingredients: [재료] 돼지고기| 당근| 감자| 파프리카| 양파| 올리브유 [양념] 시즈닝솔트| 후춧가루| 파키스탄카레| 한국카레| 일본카레\n"
     ]
    }
   ],
   "source": [
    "#사용자의 질문\n",
    "query = \"카레의 재료는 뭐야?\"\n",
    "\n",
    "#질문에 유사한 1개의 문서를 뽑아서 results에 저장\n",
    "results = db.similarity_search(query, k=1)\n",
    "\n",
    "#results의 데이터 출력 진행\n",
    "for result in results:\n",
    "    print(f\"Description: {result.metadata['Description']}\")\n",
    "    print(f\"ingredients: {result.page_content}\")"
   ]
  },
  {
   "cell_type": "code",
   "execution_count": 27,
   "metadata": {},
   "outputs": [
    {
     "name": "stdout",
     "output_type": "stream",
     "text": [
      "Description: 초코칩머핀\n",
      "ingredients: [재료] 루프 유기농 초코칩 머핀믹스 1개| 올리브유나 카놀라유 150ml| 계란 3개| 우유 50ml [양념] 코팅용 초콜렛 200g| 아몬드 다진것 적당히\n"
     ]
    }
   ],
   "source": [
    "#사용자의 질문\n",
    "query = \"초코칩머핀의 재료는 뭐야?\"\n",
    "\n",
    "#질문에 유사한 1개의 문서를 뽑아서 results에 저장\n",
    "results = db.similarity_search(query, k=1)\n",
    "\n",
    "#results의 데이터 출력 진행\n",
    "for result in results:\n",
    "    print(f\"Description: {result.metadata['Description']}\")\n",
    "    print(f\"ingredients: {result.page_content}\")"
   ]
  }
 ],
 "metadata": {
  "kernelspec": {
   "display_name": "med",
   "language": "python",
   "name": "python3"
  },
  "language_info": {
   "codemirror_mode": {
    "name": "ipython",
    "version": 3
   },
   "file_extension": ".py",
   "mimetype": "text/x-python",
   "name": "python",
   "nbconvert_exporter": "python",
   "pygments_lexer": "ipython3",
   "version": "3.13.0"
  }
 },
 "nbformat": 4,
 "nbformat_minor": 2
}
